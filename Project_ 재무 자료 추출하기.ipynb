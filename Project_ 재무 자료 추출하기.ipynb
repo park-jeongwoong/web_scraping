{
 "cells": [
  {
   "cell_type": "code",
   "execution_count": 2,
   "id": "dc2ad67b",
   "metadata": {},
   "outputs": [
    {
     "name": "stdout",
     "output_type": "stream",
     "text": [
      "https://finance.naver.com/item/coinfo.naver?code=381970\n"
     ]
    }
   ],
   "source": [
    "from urllib.request import urlopen\n",
    "from bs4 import BeautifulSoup\n",
    "import re\n",
    "import ssl\n",
    "\n",
    "def create_analysis_link(link):\n",
    "    new = 'https://finance.naver.com' + link\n",
    "    return 'https://finance.naver.com' + link[:6] + 'coinfo' + link[10:]\n",
    "\n",
    "context = ssl._create_unverified_context()\n",
    "table = []\n",
    "for page in range(1,5):\n",
    "    html = urlopen('https://finance.naver.com/sise/sise_market_sum.naver?&page='+str(page))\n",
    "    bs = BeautifulSoup(html, 'html.parser')\n",
    "    links = bs.findAll('a',{'href' : re.compile('^(/item/main.)')})\n",
    "\n",
    "\n",
    "    for link in links:\n",
    "            if 'href' in link.attrs:\n",
    "                table.append(link.attrs['href'])\n",
    "            \n",
    "for i in range(len(table)):\n",
    "    table[i] = str(create_analysis_link(table[i]))\n",
    "    \n",
    "print(table[180])"
   ]
  },
  {
   "cell_type": "code",
   "execution_count": 3,
   "id": "a553aafb",
   "metadata": {},
   "outputs": [
    {
     "name": "stdout",
     "output_type": "stream",
     "text": [
      "https://navercomp.wisereport.co.kr/v2/company/c1010001.aspx?cmp_cd=004000\n"
     ]
    }
   ],
   "source": [
    "# 얻어온 재무 분석 링크에서 javascript 링크 따오기.\n",
    "\n",
    "array = []\n",
    "for one in table:\n",
    "    html = urlopen(\"{}\".format(one), context = context)\n",
    "    bs = BeautifulSoup(html,'html.parser')\n",
    "    link = bs.find('div', {'class' : 'section inner_sub'}).find('iframe')\n",
    "    if 'src' in link.attrs:\n",
    "        goal = link.attrs['src']\n",
    "        array.append(goal)\n",
    "        \n",
    "print(array[140])\n"
   ]
  },
  {
   "cell_type": "code",
   "execution_count": 4,
   "id": "1d708485",
   "metadata": {},
   "outputs": [
    {
     "name": "stdout",
     "output_type": "stream",
     "text": [
      "the end...\n"
     ]
    }
   ],
   "source": [
    "# 따온 링크에서 원하는 정보 추출하기\n",
    "\n",
    "import csv\n",
    "\n",
    "def make_name(arr):\n",
    "    return arr[6][12:] + ' ' + 'ETF'\n",
    "\n",
    "def extract_name(name):\n",
    "    i = -1\n",
    "    for i in range(1, len(name)):\n",
    "        if name[-i] == '(':\n",
    "            name = name[-i+1:-1]\n",
    "            break\n",
    "    return name\n",
    "\n",
    "csvFile = open('COSPI_200.csv', 'wt+')\n",
    "writer = csv.writer(csvFile)\n",
    "try:\n",
    "\n",
    "    writer.writerow(('순위', '종목 이름', 'EPS', 'BPS', 'PER', '업종PER', 'PBR', '현금배당수익률'))\n",
    "    \n",
    "    i=1\n",
    "    for one in array:\n",
    "        html = urlopen(\"{}\".format(one))\n",
    "        bs = BeautifulSoup(html, 'html.parser')\n",
    "        try:\n",
    "            table = bs.findAll('table',{'class' : 'cmp-table'})[0]\n",
    "            rows = table.findAll('tr')[2].findAll('dt')\n",
    "\n",
    "            name = bs.find('title').get_text()\n",
    "            name = extract_name(name)\n",
    "\n",
    "            data = []\n",
    "            for row in rows:\n",
    "                if row.get_text() == '12월 결산':\n",
    "                    continue\n",
    "                temp = row.get_text().split()\n",
    "                if len(temp) == 1:\n",
    "                    temp.append('N/A')\n",
    "                data.append(temp[1])\n",
    "        except IndexError as e:\n",
    "            bs = bs.findAll('script', {'type':'text/javascript'})[2]\n",
    "            arr = list(map(str,str(bs).split()))\n",
    "            \n",
    "            name = make_name(arr)\n",
    "            data = ['N/A', 'N/A', 'N/A', 'N/A', 'N/A', 'N/A']\n",
    "        \n",
    "        finally:\n",
    "            writer.writerow((i, name, data[0],data[1],data[2],data[3],data[4],data[5]))\n",
    "            i += 1\n",
    "    \n",
    "finally:\n",
    "    csvFile.close()\n",
    "    \n",
    "print('the end...')"
   ]
  },
  {
   "cell_type": "code",
   "execution_count": null,
   "id": "4d3f36de",
   "metadata": {},
   "outputs": [],
   "source": [
    "\"\"\"\n",
    "나름 소기의 목적을 달성했다.\n",
    "\n",
    "1위부터 200위 까지의 간단한 재무 정보를 모두 처리했다.\n",
    "다만, etf나 레버리지 종목의 경우 재무 정보가 없기 때문에 모든 정보를 N/A 처리하고\n",
    "이름만 뽑아내려고 했다.\n",
    "\n",
    "그런데, 이름 뽑기가 생각보다 쉽지 않다. \n",
    "아무래도 html이 아니라 javascrpit로 작성되어 있기 때문이다.\n",
    "하지만, 알고리즘만 잘다루더라도 쉽게 뽑아낼 수 있을 것 같은데, 우선 중요한 것은 아니니 얼버무리고 넘겼다.\n",
    "구차한 알고리즘으로 풀고 싶지는 않다..\n",
    "깔끔한 알고리즘으로 풀거나, 시간이 좀 걸리더라도 셀레니움으로 깔끔히 풀고 싶다.\n",
    "\n",
    "또한 앞으로 '현명한 투자자'의 내용을 테스트하기 위해서는 남은 과제가 많다.\n",
    "\n",
    "앞으로는 재무제표를 띄워서 순운전자본의 값도 구하고,\n",
    "PER 값을 몇 년 평균으로 구하기도 하는 것이다. \n",
    "꾸준히 쌓아가자!\n",
    "\"\"\""
   ]
  }
 ],
 "metadata": {
  "kernelspec": {
   "display_name": "Python 3 (ipykernel)",
   "language": "python",
   "name": "python3"
  },
  "language_info": {
   "codemirror_mode": {
    "name": "ipython",
    "version": 3
   },
   "file_extension": ".py",
   "mimetype": "text/x-python",
   "name": "python",
   "nbconvert_exporter": "python",
   "pygments_lexer": "ipython3",
   "version": "3.9.7"
  }
 },
 "nbformat": 4,
 "nbformat_minor": 5
}
