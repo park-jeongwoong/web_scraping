{
 "cells": [
  {
   "cell_type": "raw",
   "id": "f5a5743d",
   "metadata": {},
   "source": [
    "# 틀렸던 이유.\n",
    "# XPATH의 faRVArcVR1a2값은 내가 페이지를 새로 고침할 때마다 계속 바뀌는 값이다.\n",
    "# 따라서 고정적으로 XPATH가 바뀌지 않는 값으로 입력을 해줘야 값을 추출할 수 있다.\n",
    "# 그대로 값을 복사했는데도 element가 안나오는 것은\n",
    "# 1) 로딩시간이 걸릴 때 와 더불어 2) 로드할 때마다 값이 바뀔 때 가 있다는 것을 알 수 있었다.\n",
    "\n",
    "\"\"\"\n",
    "# extract the data \n",
    "elem = WebDriverWait(browser, 10).until(EC.presence_of_element_located((By.XPATH\n",
    "        , '//*[@id=\"faRVArcVR1a2\"]/table[2]/tbody/tr[2]/td[6]')))\n",
    "\"\"\""
   ]
  },
  {
   "cell_type": "code",
   "execution_count": 49,
   "id": "f1799540",
   "metadata": {},
   "outputs": [],
   "source": [
    "def unit_conversion(num):\n",
    "    return round(float(num.replace(\",\",\"\")))*10**8\n",
    "\n",
    "class Content:\n",
    "    def __init__(self, market_cap, per_arr, current_asset, current_liability, cashable_asset):\n",
    "        self.market_cap = unit_conversion(market_cap[:-2])\n",
    "        self.per_average = round(sum(per_arr)/len(per_arr) ,2)\n",
    "        self.current_asset = unit_conversion(current_asset)\n",
    "        self.current_liability = unit_conversion(current_liability)\n",
    "        self.cashable_asset = unit_conversion(cashable_asset)\n",
    "        self.net_working_capital = self.current_asset-self.current_liability\n",
    "        \n",
    "    def print(self):\n",
    "        print(\"5년 PER 평균 : \", self.per_average)\n",
    "        print(\"시가총액 : \", self.market_cap)\n",
    "        print(\"유동자산 : \", self.current_asset)\n",
    "        print(\"유동부채 : \", self.current_liability)\n",
    "        print(\"순운전자본 : \", self.net_working_capital)\n",
    "        print(\"현금 및 현금성 자산 : \", self.cashable_asset)"
   ]
  },
  {
   "cell_type": "code",
   "execution_count": 50,
   "id": "f0b1e0af",
   "metadata": {},
   "outputs": [
    {
     "name": "stderr",
     "output_type": "stream",
     "text": [
      "C:\\Users\\dck\\AppData\\Local\\Temp/ipykernel_4488/2538633073.py:13: DeprecationWarning: use options instead of chrome_options\n",
      "  browser = webdriver.Chrome(chrome_options=options)\n",
      "C:\\Users\\dck\\AppData\\Local\\Temp/ipykernel_4488/2538633073.py:28: DeprecationWarning: find_element_by_link_text is deprecated. Please use find_element(by=By.LINK_TEXT, value=link_text) instead\n",
      "  browser.find_element_by_link_text(\"재무분석\").click()\n",
      "C:\\Users\\dck\\AppData\\Local\\Temp/ipykernel_4488/2538633073.py:29: DeprecationWarning: find_element_by_link_text is deprecated. Please use find_element(by=By.LINK_TEXT, value=link_text) instead\n",
      "  browser.find_element_by_link_text(\"재무상태표\").click()\n"
     ]
    },
    {
     "name": "stdout",
     "output_type": "stream",
     "text": [
      "5년 PER 평균 :  8.22\n",
      "시가총액 :  2136200000000\n",
      "유동자산 :  866900000000\n",
      "유동부채 :  309000000000\n",
      "순운전자본 :  557900000000\n",
      "현금 및 현금성 자산 :  228800000000\n"
     ]
    }
   ],
   "source": [
    "from selenium import webdriver\n",
    "from selenium.webdriver.common.by import By\n",
    "\n",
    "import time\n",
    "\n",
    "# headless 설정\n",
    "options = webdriver.ChromeOptions()\n",
    "options.add_argument('headless')\n",
    "\n",
    "# 브라우저 생성\n",
    "browser = webdriver.Chrome(chrome_options=options)\n",
    "browser.get('https://navercomp.wisereport.co.kr/v2/company/c1010001.aspx?cmp_cd=004000')\n",
    "\n",
    "# 시가총액 구하기\n",
    "elementXpath = '//*[@summary=\"기업의 기본적인 시세정보(주가/전일대비/수익률,52주최고/최저,액면가,거래량/거래대금,시가총액,유동주식비율,외국인지분율,52주베타,수익률(1M/3M/6M/1Y))를 제공합니다.\"]/tbody/tr[5]/td'\n",
    "market_cap = browser.find_element(by=By.XPATH, value = elementXpath).text\n",
    "\n",
    "# per 평균 구하기\n",
    "browser.find_element(by=By.XPATH, value = '//*[@title=\"연간\"]').click()\n",
    "\n",
    "elementXpath = '//table[@summary=\"주요재무정보를 제공합니다.\"][2]/tbody/tr[27]'\n",
    "element = browser.find_element(by=By.XPATH, value = elementXpath)\n",
    "per_arr = list(map(float,element.text.split()[1:6]))\n",
    "\n",
    "# 유동자산/유동부채 구하기\n",
    "browser.find_element_by_link_text(\"재무분석\").click()\n",
    "browser.find_element_by_link_text(\"재무상태표\").click()\n",
    "\n",
    "# Loading\n",
    "time.sleep(1)\n",
    "\n",
    "elementXpath = '//table[@summary=\"IFRS연결 연간 재무 정보를 제공합니다.\"][2]/tbody/tr[2]/td[6]'\n",
    "current_asset = browser.find_element(by=By.XPATH, value = elementXpath).text\n",
    "\n",
    "elementXpath = '//table[@summary=\"IFRS연결 연간 재무 정보를 제공합니다.\"][2]/tbody/tr[128]/td[6]'\n",
    "current_liability = browser.find_element(by=By.XPATH, value = elementXpath).text\n",
    "                                \n",
    "# 현금 및 현금성 자산 구하기\n",
    "elementXpath = '//table[@summary=\"IFRS연결 연간 재무 정보를 제공합니다.\"][2]/tbody/tr[47]/td[6]'\n",
    "cashable_asset = browser.find_element(by=By.XPATH, value = elementXpath).text\n",
    "\n",
    "# 객체화\n",
    "content = Content(market_cap, per_arr, current_asset, current_liability, cashable_asset)\n",
    "content.print()\n",
    "\n",
    "browser.close()\n",
    "\n"
   ]
  }
 ],
 "metadata": {
  "kernelspec": {
   "display_name": "Python 3 (ipykernel)",
   "language": "python",
   "name": "python3"
  },
  "language_info": {
   "codemirror_mode": {
    "name": "ipython",
    "version": 3
   },
   "file_extension": ".py",
   "mimetype": "text/x-python",
   "name": "python",
   "nbconvert_exporter": "python",
   "pygments_lexer": "ipython3",
   "version": "3.9.7"
  }
 },
 "nbformat": 4,
 "nbformat_minor": 5
}
