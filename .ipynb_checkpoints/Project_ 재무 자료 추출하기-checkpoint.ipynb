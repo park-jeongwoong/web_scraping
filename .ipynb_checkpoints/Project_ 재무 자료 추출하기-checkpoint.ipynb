{
 "cells": [
  {
   "cell_type": "code",
   "execution_count": 1,
   "id": "cccc2758",
   "metadata": {},
   "outputs": [
    {
     "name": "stdout",
     "output_type": "stream",
     "text": [
      "국내 코스피 50개 구성항목 링크\n",
      "https://finance.naver.com/item/coinfo.naver?code=005930\n",
      "https://finance.naver.com/item/coinfo.naver?code=373220\n",
      "https://finance.naver.com/item/coinfo.naver?code=000660\n",
      "https://finance.naver.com/item/coinfo.naver?code=207940\n",
      "https://finance.naver.com/item/coinfo.naver?code=035420\n",
      "https://finance.naver.com/item/coinfo.naver?code=005935\n",
      "https://finance.naver.com/item/coinfo.naver?code=035720\n",
      "https://finance.naver.com/item/coinfo.naver?code=005380\n",
      "https://finance.naver.com/item/coinfo.naver?code=051910\n",
      "https://finance.naver.com/item/coinfo.naver?code=006400\n",
      "https://finance.naver.com/item/coinfo.naver?code=000270\n",
      "https://finance.naver.com/item/coinfo.naver?code=005490\n",
      "https://finance.naver.com/item/coinfo.naver?code=105560\n",
      "https://finance.naver.com/item/coinfo.naver?code=323410\n",
      "https://finance.naver.com/item/coinfo.naver?code=068270\n",
      "https://finance.naver.com/item/coinfo.naver?code=055550\n",
      "https://finance.naver.com/item/coinfo.naver?code=028260\n",
      "https://finance.naver.com/item/coinfo.naver?code=012330\n",
      "https://finance.naver.com/item/coinfo.naver?code=066570\n",
      "https://finance.naver.com/item/coinfo.naver?code=096770\n",
      "https://finance.naver.com/item/coinfo.naver?code=377300\n",
      "https://finance.naver.com/item/coinfo.naver?code=034730\n",
      "https://finance.naver.com/item/coinfo.naver?code=015760\n",
      "https://finance.naver.com/item/coinfo.naver?code=086790\n",
      "https://finance.naver.com/item/coinfo.naver?code=011200\n",
      "https://finance.naver.com/item/coinfo.naver?code=259960\n",
      "https://finance.naver.com/item/coinfo.naver?code=034020\n",
      "https://finance.naver.com/item/coinfo.naver?code=051900\n",
      "https://finance.naver.com/item/coinfo.naver?code=032830\n",
      "https://finance.naver.com/item/coinfo.naver?code=017670\n",
      "https://finance.naver.com/item/coinfo.naver?code=352820\n",
      "https://finance.naver.com/item/coinfo.naver?code=009150\n",
      "https://finance.naver.com/item/coinfo.naver?code=003550\n",
      "https://finance.naver.com/item/coinfo.naver?code=302440\n",
      "https://finance.naver.com/item/coinfo.naver?code=010130\n",
      "https://finance.naver.com/item/coinfo.naver?code=316140\n",
      "https://finance.naver.com/item/coinfo.naver?code=033780\n",
      "https://finance.naver.com/item/coinfo.naver?code=010950\n",
      "https://finance.naver.com/item/coinfo.naver?code=329180\n",
      "https://finance.naver.com/item/coinfo.naver?code=003490\n",
      "https://finance.naver.com/item/coinfo.naver?code=018260\n",
      "https://finance.naver.com/item/coinfo.naver?code=036570\n",
      "https://finance.naver.com/item/coinfo.naver?code=000810\n",
      "https://finance.naver.com/item/coinfo.naver?code=251270\n",
      "https://finance.naver.com/item/coinfo.naver?code=030200\n",
      "https://finance.naver.com/item/coinfo.naver?code=011070\n",
      "https://finance.naver.com/item/coinfo.naver?code=003670\n",
      "https://finance.naver.com/item/coinfo.naver?code=090430\n",
      "https://finance.naver.com/item/coinfo.naver?code=361610\n",
      "https://finance.naver.com/item/coinfo.naver?code=024110\n"
     ]
    },
    {
     "data": {
      "text/plain": [
       "'\\n우선 정보를 추출하여 저장하는 사이클 하나를 돈 이후에는,\\n이 부분을 함수로 만들어서 50개 이상의 항목들을 쭉 긁어올 수 있도록 만들어 놓자.\\n코드들의 부분 부분을 쭉 업그레이드를 해나갈 예정이다.\\n'"
      ]
     },
     "execution_count": 1,
     "metadata": {},
     "output_type": "execute_result"
    }
   ],
   "source": [
    "# 코스피 지수 구성 종목들의 링크 테이블 만들기.\n",
    "\n",
    "from urllib.request import urlopen\n",
    "from bs4 import BeautifulSoup\n",
    "import re\n",
    "import ssl\n",
    "\n",
    "def create_analysis_link(link):\n",
    "    new = 'https://finance.naver.com' + link\n",
    "    return 'https://finance.naver.com' + link[:6] + 'coinfo' + link[10:]\n",
    "\n",
    "context = ssl._create_unverified_context()\n",
    "html = urlopen('https://finance.naver.com/sise/sise_market_sum.naver', context = context)\n",
    "bs = BeautifulSoup(html, 'html.parser')\n",
    "links = bs.findAll('a',{'href' : re.compile('^(/item/main.)')})\n",
    "\n",
    "table = []\n",
    "for link in links:\n",
    "        if 'href' in link.attrs:\n",
    "            table.append(link.attrs['href'])\n",
    "    \n",
    "print(\"국내 코스피 50개 구성항목 링크\")\n",
    "            \n",
    "for i in range(len(table)):\n",
    "    table[i] = create_analysis_link(table[i])\n",
    "    print(table[i])\n",
    "    \n",
    "\"\"\"\n",
    "우선 정보를 추출하여 저장하는 사이클 하나를 돈 이후에는,\n",
    "이 부분을 함수로 만들어서 50개 이상의 항목들을 쭉 긁어올 수 있도록 만들어 놓자.\n",
    "코드들의 부분 부분을 쭉 업그레이드를 해나갈 예정이다.\n",
    "\"\"\""
   ]
  },
  {
   "cell_type": "code",
   "execution_count": null,
   "id": "0762218b",
   "metadata": {},
   "outputs": [],
   "source": [
    "# 링크로부터 각종 재무자료 추출하기\n",
    "\n",
    "# EPS BPS PER 업종PER PBR 현금배당수익률\n",
    "\n",
    "\"\"\"\n",
    "심각한 문제가 생겼다...\n",
    "뭐 곁따리 정보들이야 지금이라도 추출할 수 있겠다만은,\n",
    "실질적으로 필요한 '종목 분석'의 항목들이 html이 아니라, 자바 스크립트 언어로 쓰여있다...\n",
    "2부의 'Ch11_자바스크립트 스크레이핑' 내용을 습득하고 다시 오도록 하자.\n",
    "\n",
    "다시 시작하게 되면, 배운 것처럼 Contents 클래스를 생성하여(크롤링 모델 설정)\n",
    "자료를 수집하자. 체계적이고 수정이 간단한 체계를 구축해야 한다.\n",
    "\"\"\"\n",
    "\n",
    "for url in table:\n",
    "    html = urlopen(url, context = context)\n",
    "    bs = BeautifulSoup(html, 'html.parser')\n",
    "        table = \n"
   ]
  },
  {
   "cell_type": "code",
   "execution_count": 22,
   "id": "bbbc1e5d",
   "metadata": {
    "collapsed": true
   },
   "outputs": [
    {
     "ename": "AttributeError",
     "evalue": "'_csv.writer' object has no attribute 'writeRow'",
     "output_type": "error",
     "traceback": [
      "\u001b[1;31m---------------------------------------------------------------------------\u001b[0m",
      "\u001b[1;31mAttributeError\u001b[0m                            Traceback (most recent call last)",
      "\u001b[1;32m~\\AppData\\Local\\Temp/ipykernel_7476/3240572856.py\u001b[0m in \u001b[0;36m<module>\u001b[1;34m\u001b[0m\n\u001b[0;32m      4\u001b[0m \u001b[0mwriter\u001b[0m \u001b[1;33m=\u001b[0m \u001b[0mcsv\u001b[0m\u001b[1;33m.\u001b[0m\u001b[0mwriter\u001b[0m\u001b[1;33m(\u001b[0m\u001b[0mcsvFile\u001b[0m\u001b[1;33m)\u001b[0m\u001b[1;33m\u001b[0m\u001b[1;33m\u001b[0m\u001b[0m\n\u001b[0;32m      5\u001b[0m \u001b[1;33m\u001b[0m\u001b[0m\n\u001b[1;32m----> 6\u001b[1;33m \u001b[0mwriter\u001b[0m\u001b[1;33m.\u001b[0m\u001b[0mwriteRow\u001b[0m\u001b[1;33m(\u001b[0m\u001b[1;33m(\u001b[0m\u001b[1;34m'EPS'\u001b[0m\u001b[1;33m,\u001b[0m \u001b[1;34m'BPS'\u001b[0m\u001b[1;33m,\u001b[0m \u001b[1;34m'PER'\u001b[0m\u001b[1;33m,\u001b[0m \u001b[1;34m'업종PER'\u001b[0m\u001b[1;33m,\u001b[0m \u001b[1;34m'PBR'\u001b[0m\u001b[1;33m,\u001b[0m \u001b[1;34m'현금배당수익률'\u001b[0m\u001b[1;33m)\u001b[0m\u001b[1;33m)\u001b[0m\u001b[1;33m\u001b[0m\u001b[1;33m\u001b[0m\u001b[0m\n\u001b[0m\u001b[0;32m      7\u001b[0m \u001b[1;32mtry\u001b[0m\u001b[1;33m:\u001b[0m\u001b[1;33m\u001b[0m\u001b[1;33m\u001b[0m\u001b[0m\n\u001b[0;32m      8\u001b[0m     \u001b[1;32mfor\u001b[0m \u001b[0mrow\u001b[0m \u001b[1;32min\u001b[0m \u001b[0mrows\u001b[0m\u001b[1;33m:\u001b[0m\u001b[1;33m\u001b[0m\u001b[1;33m\u001b[0m\u001b[0m\n",
      "\u001b[1;31mAttributeError\u001b[0m: '_csv.writer' object has no attribute 'writeRow'"
     ]
    }
   ],
   "source": [
    "# 추출한 자료들을 저장할 체계 (csv로 하나, mysql로 하나 저장할 예정.)\n",
    "\n",
    "import csv\n",
    "\n",
    "csvFile = open('cospi50.csv','wt+')\n",
    "writer = csv.writer(csvFile)\n",
    "\n",
    "writer.writeRow(('EPS', 'BPS', 'PER', '업종PER', 'PBR', '현금배당수익률'))\n",
    "try:\n",
    "    for row in rows:\n",
    "        csvRow = []\n",
    "        for cell in row.findAll([]):\n",
    "            csvRow.append(cell.get_text())\n",
    "            writer.writerow(csvRow)\n",
    "finally:\n",
    "      csvFile.close()"
   ]
  },
  {
   "cell_type": "code",
   "execution_count": 8,
   "id": "c73e2631",
   "metadata": {},
   "outputs": [
    {
     "name": "stdout",
     "output_type": "stream",
     "text": [
      "https://navercomp.wisereport.co.kr/v2/company/c1010001.aspx?cmp_cd=035720\n"
     ]
    }
   ],
   "source": [
    "# 얻어온 재무 분석 링크에서 javascript 링크 따오기.\n",
    "html = urlopen('https://finance.naver.com/item/coinfo.naver?code=035720',context = context)\n",
    "bs = BeautifulSoup(html,'html.parser')\n",
    "link = bs.find('div', {'class' : 'section inner_sub'}).find('iframe')\n",
    "if 'src' in link.attrs:\n",
    "    goal = link.attrs['src']\n",
    "print(goal)"
   ]
  },
  {
   "cell_type": "code",
   "execution_count": 23,
   "id": "1d708485",
   "metadata": {},
   "outputs": [
    {
     "name": "stdout",
     "output_type": "stream",
     "text": [
      "EPS 3,132\n",
      "BPS 23,024\n",
      "PER 33.52\n",
      "업종PER 91.42\n",
      "PBR 4.56\n",
      "현금배당수익률 0.05%\n"
     ]
    }
   ],
   "source": [
    "# 따온 링크에서 원하는 정보 추출하기\n",
    "html = urlopen('https://navercomp.wisereport.co.kr/v2/company/c1010001.aspx?cmp_cd=035720', context =context)\n",
    "bs = BeautifulSoup(html, 'html.parser')\n",
    "table = bs.findAll('table',{'class' : 'cmp-table'})[0]\n",
    "rows = table.findAll('tr')[2].findAll('dt')\n",
    "\n",
    "for row in rows:\n",
    "    if row.get_text() == '12월 결산':\n",
    "        continue\n",
    "    print(row.get_text())"
   ]
  },
  {
   "cell_type": "code",
   "execution_count": null,
   "id": "fcf6ef96",
   "metadata": {},
   "outputs": [],
   "source": [
    "\"\"\"\n",
    "다 했다... 사실 어느 부분이 자바스크립트이고, 어떻게 결과가 잘 뽑힌 건지는 잘 모르겠다. \n",
    "(그래도 js인 증거들은 많다.)\n",
    "\n",
    "예상하기로는, 네이버 재무 분석 파트가 스크립트를 이용해 어떤 링크를 작은 화면으로 띄우게 되어 있고,\n",
    "그 안의 화면은 다시 html로 작성되어 있어 내가 손쉽게 자료들을 크롤링할 수 있었던 것 같다.\n",
    "\n",
    "이제 csv로 저장하기 용이하게 클래스화 시키고, 정보들을 잘 나열하고 for 구조로 만드는 게 중요할 것 같다.\n",
    "하지만, 이제부터는 시간 문제일 뿐이다...\n",
    "\n",
    "페이지대로 쭉 나열하여 코스피 200 모든 종목의\n",
    "재무 정보들을 한번에 긁어 오자. \n",
    "\n",
    "시간순으로 긁어오게 된다면 벤자민 그레이엄의 기법이 얼마나 잘 먹혔는 지도 확인할 수 있을 것이다. \n",
    "\"\"\""
   ]
  },
  {
   "cell_type": "code",
   "execution_count": null,
   "id": "9c84e530",
   "metadata": {},
   "outputs": [],
   "source": []
  },
  {
   "cell_type": "code",
   "execution_count": null,
   "id": "8c2eb5b4",
   "metadata": {},
   "outputs": [],
   "source": []
  },
  {
   "cell_type": "code",
   "execution_count": null,
   "id": "b66f80af",
   "metadata": {},
   "outputs": [],
   "source": []
  },
  {
   "cell_type": "code",
   "execution_count": null,
   "id": "c70f444b",
   "metadata": {},
   "outputs": [],
   "source": []
  },
  {
   "cell_type": "code",
   "execution_count": null,
   "id": "1572a663",
   "metadata": {},
   "outputs": [],
   "source": []
  },
  {
   "cell_type": "code",
   "execution_count": null,
   "id": "d3f14b70",
   "metadata": {},
   "outputs": [],
   "source": []
  },
  {
   "cell_type": "code",
   "execution_count": null,
   "id": "cb3c43f1",
   "metadata": {},
   "outputs": [],
   "source": []
  },
  {
   "cell_type": "code",
   "execution_count": null,
   "id": "efe40717",
   "metadata": {},
   "outputs": [],
   "source": []
  },
  {
   "cell_type": "code",
   "execution_count": null,
   "id": "b9db4d4b",
   "metadata": {},
   "outputs": [],
   "source": []
  }
 ],
 "metadata": {
  "kernelspec": {
   "display_name": "Python 3 (ipykernel)",
   "language": "python",
   "name": "python3"
  },
  "language_info": {
   "codemirror_mode": {
    "name": "ipython",
    "version": 3
   },
   "file_extension": ".py",
   "mimetype": "text/x-python",
   "name": "python",
   "nbconvert_exporter": "python",
   "pygments_lexer": "ipython3",
   "version": "3.9.7"
  }
 },
 "nbformat": 4,
 "nbformat_minor": 5
}
