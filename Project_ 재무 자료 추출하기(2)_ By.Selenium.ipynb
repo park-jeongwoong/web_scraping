{
 "cells": [
  {
   "cell_type": "code",
   "execution_count": 28,
   "id": "9167267f",
   "metadata": {},
   "outputs": [
    {
     "name": "stderr",
     "output_type": "stream",
     "text": [
      "C:\\Users\\dck\\AppData\\Local\\Temp/ipykernel_11788/2919450675.py:12: DeprecationWarning: find_element_by_link_text is deprecated. Please use find_element(by=By.LINK_TEXT, value=link_text) instead\n",
      "  browser.find_element_by_link_text(\"재무분석\").click()\n",
      "C:\\Users\\dck\\AppData\\Local\\Temp/ipykernel_11788/2919450675.py:13: DeprecationWarning: find_element_by_link_text is deprecated. Please use find_element(by=By.LINK_TEXT, value=link_text) instead\n",
      "  browser.find_element_by_link_text(\"재무상태표\").click()\n"
     ]
    },
    {
     "ename": "TimeoutException",
     "evalue": "Message: \nStacktrace:\nBacktrace:\n\tOrdinal0 [0x00C97413+2389011]\n\tOrdinal0 [0x00C29F61+1941345]\n\tOrdinal0 [0x00B1C658+837208]\n\tOrdinal0 [0x00B491DD+1020381]\n\tOrdinal0 [0x00B4949B+1021083]\n\tOrdinal0 [0x00B76032+1204274]\n\tOrdinal0 [0x00B64194+1130900]\n\tOrdinal0 [0x00B74302+1196802]\n\tOrdinal0 [0x00B63F66+1130342]\n\tOrdinal0 [0x00B3E546+976198]\n\tOrdinal0 [0x00B3F456+980054]\n\tGetHandleVerifier [0x00E49632+1727522]\n\tGetHandleVerifier [0x00EFBA4D+2457661]\n\tGetHandleVerifier [0x00D2EB81+569713]\n\tGetHandleVerifier [0x00D2DD76+566118]\n\tOrdinal0 [0x00C30B2B+1968939]\n\tOrdinal0 [0x00C35988+1989000]\n\tOrdinal0 [0x00C35A75+1989237]\n\tOrdinal0 [0x00C3ECB1+2026673]\n\tBaseThreadInitThunk [0x7672FA29+25]\n\tRtlGetAppContainerNamedObjectPath [0x77A37A7E+286]\n\tRtlGetAppContainerNamedObjectPath [0x77A37A4E+238]\n",
     "output_type": "error",
     "traceback": [
      "\u001b[1;31m---------------------------------------------------------------------------\u001b[0m",
      "\u001b[1;31mTimeoutException\u001b[0m                          Traceback (most recent call last)",
      "\u001b[1;32m~\\AppData\\Local\\Temp/ipykernel_11788/2919450675.py\u001b[0m in \u001b[0;36m<module>\u001b[1;34m\u001b[0m\n\u001b[0;32m     14\u001b[0m \u001b[1;33m\u001b[0m\u001b[0m\n\u001b[0;32m     15\u001b[0m \u001b[1;31m# extract the data\u001b[0m\u001b[1;33m\u001b[0m\u001b[1;33m\u001b[0m\u001b[0m\n\u001b[1;32m---> 16\u001b[1;33m \u001b[0melem\u001b[0m \u001b[1;33m=\u001b[0m \u001b[0mWebDriverWait\u001b[0m\u001b[1;33m(\u001b[0m\u001b[0mbrowser\u001b[0m\u001b[1;33m,\u001b[0m \u001b[1;36m10\u001b[0m\u001b[1;33m)\u001b[0m\u001b[1;33m.\u001b[0m\u001b[0muntil\u001b[0m\u001b[1;33m(\u001b[0m\u001b[0mEC\u001b[0m\u001b[1;33m.\u001b[0m\u001b[0mpresence_of_element_located\u001b[0m\u001b[1;33m(\u001b[0m\u001b[1;33m(\u001b[0m\u001b[0mBy\u001b[0m\u001b[1;33m.\u001b[0m\u001b[0mXPATH\u001b[0m\u001b[1;33m,\u001b[0m \u001b[1;34m'//*[@id=\"faRVArcVR1a2\"]/table[2]/tbody/tr[2]/td[6]'\u001b[0m\u001b[1;33m)\u001b[0m\u001b[1;33m)\u001b[0m\u001b[1;33m)\u001b[0m\u001b[1;33m\u001b[0m\u001b[1;33m\u001b[0m\u001b[0m\n\u001b[0m\u001b[0;32m     17\u001b[0m \u001b[0mprint\u001b[0m\u001b[1;33m(\u001b[0m\u001b[0melem\u001b[0m\u001b[1;33m.\u001b[0m\u001b[0mtext\u001b[0m\u001b[1;33m)\u001b[0m\u001b[1;33m\u001b[0m\u001b[1;33m\u001b[0m\u001b[0m\n",
      "\u001b[1;32m~\\anaconda3\\lib\\site-packages\\selenium\\webdriver\\support\\wait.py\u001b[0m in \u001b[0;36muntil\u001b[1;34m(self, method, message)\u001b[0m\n\u001b[0;32m     87\u001b[0m             \u001b[1;32mif\u001b[0m \u001b[0mtime\u001b[0m\u001b[1;33m.\u001b[0m\u001b[0mtime\u001b[0m\u001b[1;33m(\u001b[0m\u001b[1;33m)\u001b[0m \u001b[1;33m>\u001b[0m \u001b[0mend_time\u001b[0m\u001b[1;33m:\u001b[0m\u001b[1;33m\u001b[0m\u001b[1;33m\u001b[0m\u001b[0m\n\u001b[0;32m     88\u001b[0m                 \u001b[1;32mbreak\u001b[0m\u001b[1;33m\u001b[0m\u001b[1;33m\u001b[0m\u001b[0m\n\u001b[1;32m---> 89\u001b[1;33m         \u001b[1;32mraise\u001b[0m \u001b[0mTimeoutException\u001b[0m\u001b[1;33m(\u001b[0m\u001b[0mmessage\u001b[0m\u001b[1;33m,\u001b[0m \u001b[0mscreen\u001b[0m\u001b[1;33m,\u001b[0m \u001b[0mstacktrace\u001b[0m\u001b[1;33m)\u001b[0m\u001b[1;33m\u001b[0m\u001b[1;33m\u001b[0m\u001b[0m\n\u001b[0m\u001b[0;32m     90\u001b[0m \u001b[1;33m\u001b[0m\u001b[0m\n\u001b[0;32m     91\u001b[0m     \u001b[1;32mdef\u001b[0m \u001b[0muntil_not\u001b[0m\u001b[1;33m(\u001b[0m\u001b[0mself\u001b[0m\u001b[1;33m,\u001b[0m \u001b[0mmethod\u001b[0m\u001b[1;33m,\u001b[0m \u001b[0mmessage\u001b[0m\u001b[1;33m=\u001b[0m\u001b[1;34m''\u001b[0m\u001b[1;33m)\u001b[0m\u001b[1;33m:\u001b[0m\u001b[1;33m\u001b[0m\u001b[1;33m\u001b[0m\u001b[0m\n",
      "\u001b[1;31mTimeoutException\u001b[0m: Message: \nStacktrace:\nBacktrace:\n\tOrdinal0 [0x00C97413+2389011]\n\tOrdinal0 [0x00C29F61+1941345]\n\tOrdinal0 [0x00B1C658+837208]\n\tOrdinal0 [0x00B491DD+1020381]\n\tOrdinal0 [0x00B4949B+1021083]\n\tOrdinal0 [0x00B76032+1204274]\n\tOrdinal0 [0x00B64194+1130900]\n\tOrdinal0 [0x00B74302+1196802]\n\tOrdinal0 [0x00B63F66+1130342]\n\tOrdinal0 [0x00B3E546+976198]\n\tOrdinal0 [0x00B3F456+980054]\n\tGetHandleVerifier [0x00E49632+1727522]\n\tGetHandleVerifier [0x00EFBA4D+2457661]\n\tGetHandleVerifier [0x00D2EB81+569713]\n\tGetHandleVerifier [0x00D2DD76+566118]\n\tOrdinal0 [0x00C30B2B+1968939]\n\tOrdinal0 [0x00C35988+1989000]\n\tOrdinal0 [0x00C35A75+1989237]\n\tOrdinal0 [0x00C3ECB1+2026673]\n\tBaseThreadInitThunk [0x7672FA29+25]\n\tRtlGetAppContainerNamedObjectPath [0x77A37A7E+286]\n\tRtlGetAppContainerNamedObjectPath [0x77A37A4E+238]\n"
     ]
    }
   ],
   "source": [
    "from selenium import webdriver\n",
    "\n",
    "from selenium.webdriver.common.by import By\n",
    "from selenium.webdriver.support.ui import WebDriverWait\n",
    "from selenium.webdriver.support import expected_conditions as EC\n",
    "\n",
    "\n",
    "browser = webdriver.Chrome() \n",
    "browser.get('https://navercomp.wisereport.co.kr/v2/company/c1010001.aspx?cmp_cd=004000')\n",
    "\n",
    "# move to my goal\n",
    "browser.find_element_by_link_text(\"재무분석\").click()\n",
    "browser.find_element_by_link_text(\"재무상태표\").click()\n",
    "\n",
    "# extract the data \n",
    "elem = WebDriverWait(browser, 10).until(EC.presence_of_element_located((By.XPATH, '//*[@id=\"faRVArcVR1a2\"]/table[2]/tbody/tr[2]/td[6]')))\n",
    "print(elem.text) "
   ]
  },
  {
   "cell_type": "code",
   "execution_count": null,
   "id": "e9d99c8a",
   "metadata": {},
   "outputs": [],
   "source": []
  }
 ],
 "metadata": {
  "kernelspec": {
   "display_name": "Python 3 (ipykernel)",
   "language": "python",
   "name": "python3"
  },
  "language_info": {
   "codemirror_mode": {
    "name": "ipython",
    "version": 3
   },
   "file_extension": ".py",
   "mimetype": "text/x-python",
   "name": "python",
   "nbconvert_exporter": "python",
   "pygments_lexer": "ipython3",
   "version": "3.9.7"
  }
 },
 "nbformat": 4,
 "nbformat_minor": 5
}
